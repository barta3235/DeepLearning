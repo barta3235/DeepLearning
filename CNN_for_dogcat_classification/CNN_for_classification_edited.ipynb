{
  "nbformat": 4,
  "nbformat_minor": 0,
  "metadata": {
    "colab": {
      "provenance": [],
      "include_colab_link": true
    },
    "kernelspec": {
      "name": "python3",
      "display_name": "Python 3"
    }
  },
  "cells": [
    {
      "cell_type": "markdown",
      "metadata": {
        "id": "view-in-github",
        "colab_type": "text"
      },
      "source": [
        "<a href=\"https://colab.research.google.com/github/barta3235/DeepLearning/blob/main/CNN_for_dogcat_classification/CNN_for_classification_edited.ipynb\" target=\"_parent\"><img src=\"https://colab.research.google.com/assets/colab-badge.svg\" alt=\"Open In Colab\"/></a>"
      ]
    },
    {
      "cell_type": "markdown",
      "metadata": {
        "id": "3DR-eO17geWu"
      },
      "source": [
        "# Convolutional Neural Network"
      ]
    },
    {
      "cell_type": "markdown",
      "metadata": {
        "id": "EMefrVPCg-60"
      },
      "source": [
        "### Importing the libraries"
      ]
    },
    {
      "cell_type": "code",
      "source": [
        "import tensorflow as tf\n",
        "from keras.preprocessing.image import ImageDataGenerator"
      ],
      "metadata": {
        "id": "RGywAIUO8ZXm"
      },
      "execution_count": 2,
      "outputs": []
    },
    {
      "cell_type": "code",
      "source": [
        "tf.__version__"
      ],
      "metadata": {
        "colab": {
          "base_uri": "https://localhost:8080/",
          "height": 36
        },
        "id": "ra0yoN_28vzm",
        "outputId": "3ffe3e0c-0650-4531-95b1-5b51eddb168f"
      },
      "execution_count": 3,
      "outputs": [
        {
          "output_type": "execute_result",
          "data": {
            "text/plain": [
              "'2.13.0'"
            ],
            "application/vnd.google.colaboratory.intrinsic+json": {
              "type": "string"
            }
          },
          "metadata": {},
          "execution_count": 3
        }
      ]
    },
    {
      "cell_type": "markdown",
      "metadata": {
        "id": "oxQxCBWyoGPE"
      },
      "source": [
        "## Part 1 - Data Preprocessing"
      ]
    },
    {
      "cell_type": "markdown",
      "metadata": {
        "id": "MvE-heJNo3GG"
      },
      "source": [
        "### Preprocessing the Training set"
      ]
    },
    {
      "cell_type": "code",
      "source": [
        "train_datagen = ImageDataGenerator(\n",
        "        rescale=1./255,   # apply feature scaling\n",
        "        shear_range=0.2,\n",
        "        zoom_range=0.2,\n",
        "        horizontal_flip=True)\n",
        "\n",
        "training_set = train_datagen.flow_from_directory(\n",
        "        '/content/drive/MyDrive/Datasetcatdog/training_set',\n",
        "        target_size=(64, 64),\n",
        "        batch_size=32,\n",
        "        class_mode='binary')"
      ],
      "metadata": {
        "id": "ZcupueFj9IzF",
        "colab": {
          "base_uri": "https://localhost:8080/"
        },
        "outputId": "68ce8603-034a-444e-c93e-22e9eff7942c"
      },
      "execution_count": 7,
      "outputs": [
        {
          "output_type": "stream",
          "name": "stdout",
          "text": [
            "Found 4646 images belonging to 2 classes.\n"
          ]
        }
      ]
    },
    {
      "cell_type": "code",
      "source": [
        "from google.colab import drive\n",
        "drive.mount('/content/drive')"
      ],
      "metadata": {
        "colab": {
          "base_uri": "https://localhost:8080/"
        },
        "id": "TOCEXKa55TPr",
        "outputId": "c3388aee-500b-4019-b452-c8ca412bfcc6"
      },
      "execution_count": 5,
      "outputs": [
        {
          "output_type": "stream",
          "name": "stdout",
          "text": [
            "Mounted at /content/drive\n"
          ]
        }
      ]
    },
    {
      "cell_type": "markdown",
      "metadata": {
        "id": "mrCMmGw9pHys"
      },
      "source": [
        "### Preprocessing the Test set"
      ]
    },
    {
      "cell_type": "code",
      "source": [
        "test_datagen = ImageDataGenerator(rescale=1./255)\n",
        "\n",
        "test_set = test_datagen.flow_from_directory(\n",
        "        '/content/drive/MyDrive/Datasetcatdog/test_set',\n",
        "        target_size=(64, 64),\n",
        "        batch_size=32,\n",
        "        class_mode='binary')"
      ],
      "metadata": {
        "id": "xdChSe4UJfbv",
        "colab": {
          "base_uri": "https://localhost:8080/"
        },
        "outputId": "9056e28f-4040-4392-fba3-de6482cd269e"
      },
      "execution_count": 8,
      "outputs": [
        {
          "output_type": "stream",
          "name": "stdout",
          "text": [
            "Found 1498 images belonging to 2 classes.\n"
          ]
        }
      ]
    },
    {
      "cell_type": "markdown",
      "metadata": {
        "id": "af8O4l90gk7B"
      },
      "source": [
        "## Part 2 - Building the CNN"
      ]
    },
    {
      "cell_type": "markdown",
      "metadata": {
        "id": "ces1gXY2lmoX"
      },
      "source": [
        "### Initialising the CNN"
      ]
    },
    {
      "cell_type": "code",
      "source": [
        "cnn=tf.keras.models.Sequential()"
      ],
      "metadata": {
        "id": "Y8SUkHmSNqPk"
      },
      "execution_count": 9,
      "outputs": []
    },
    {
      "cell_type": "markdown",
      "metadata": {
        "id": "u5YJj_XMl5LF"
      },
      "source": [
        "### Step 1 - Convolution"
      ]
    },
    {
      "cell_type": "code",
      "source": [
        "cnn.add(tf.keras.layers.Conv2D(filters=32,kernel_size=3,activation='relu',input_shape=[64,64,3]))"
      ],
      "metadata": {
        "id": "_GkxBdbfN8mt"
      },
      "execution_count": 10,
      "outputs": []
    },
    {
      "cell_type": "markdown",
      "metadata": {
        "id": "tf87FpvxmNOJ"
      },
      "source": [
        "### Step 2 - Pooling"
      ]
    },
    {
      "cell_type": "code",
      "source": [
        "cnn.add(tf.keras.layers.MaxPool2D(pool_size=2,strides=2))"
      ],
      "metadata": {
        "id": "uFP4TOtrPnp-"
      },
      "execution_count": 11,
      "outputs": []
    },
    {
      "cell_type": "markdown",
      "metadata": {
        "id": "xaTOgD8rm4mU"
      },
      "source": [
        "### Adding a second convolutional layer"
      ]
    },
    {
      "cell_type": "code",
      "source": [
        "cnn.add(tf.keras.layers.Conv2D(filters=32,kernel_size=3,activation='relu',)) # input shape info is only necessary for first conv layer\n",
        "cnn.add(tf.keras.layers.MaxPool2D(pool_size=2,strides=2))"
      ],
      "metadata": {
        "id": "zooIBFNUR9PQ"
      },
      "execution_count": 12,
      "outputs": []
    },
    {
      "cell_type": "markdown",
      "metadata": {
        "id": "tmiEuvTunKfk"
      },
      "source": [
        "### Step 3 - Flattening"
      ]
    },
    {
      "cell_type": "code",
      "source": [
        "cnn.add(tf.keras.layers.Flatten())"
      ],
      "metadata": {
        "id": "t7YismNmSVWs"
      },
      "execution_count": 13,
      "outputs": []
    },
    {
      "cell_type": "markdown",
      "metadata": {
        "id": "dAoSECOm203v"
      },
      "source": [
        "### Step 4 - Full Connection"
      ]
    },
    {
      "cell_type": "code",
      "source": [
        "cnn.add(tf.keras.layers.Dense(units=128,activation='relu'))"
      ],
      "metadata": {
        "id": "R5ytuI08Sk_8"
      },
      "execution_count": 14,
      "outputs": []
    },
    {
      "cell_type": "markdown",
      "metadata": {
        "id": "yTldFvbX28Na"
      },
      "source": [
        "### Step 5 - Output Layer"
      ]
    },
    {
      "cell_type": "code",
      "source": [
        "cnn.add(tf.keras.layers.Dense(units=1,activation='sigmoid'))   #cat or dog 0 or 1"
      ],
      "metadata": {
        "id": "j-eNFt4iTeEF"
      },
      "execution_count": 15,
      "outputs": []
    },
    {
      "cell_type": "markdown",
      "metadata": {
        "id": "D6XkI90snSDl"
      },
      "source": [
        "## Part 3 - Training the CNN"
      ]
    },
    {
      "cell_type": "markdown",
      "metadata": {
        "id": "vfrFQACEnc6i"
      },
      "source": [
        "### Compiling the CNN"
      ]
    },
    {
      "cell_type": "code",
      "source": [
        "cnn.compile(optimizer='adam',loss='binary_crossentropy',metrics=['accuracy'])"
      ],
      "metadata": {
        "id": "-ZV9CCkGTJjn"
      },
      "execution_count": 16,
      "outputs": []
    },
    {
      "cell_type": "markdown",
      "metadata": {
        "id": "ehS-v3MIpX2h"
      },
      "source": [
        "### Training the CNN on the Training set and evaluating it on the Test set"
      ]
    },
    {
      "cell_type": "code",
      "source": [
        "cnn.fit(x=training_set, validation_data=test_set, epochs=25)"
      ],
      "metadata": {
        "colab": {
          "base_uri": "https://localhost:8080/"
        },
        "id": "NJyAA2jx0WNH",
        "outputId": "6ff94973-bcf2-4c20-c781-7443559346fb"
      },
      "execution_count": 17,
      "outputs": [
        {
          "output_type": "stream",
          "name": "stdout",
          "text": [
            "Epoch 1/25\n",
            "146/146 [==============================] - 663s 4s/step - loss: 0.6586 - accuracy: 0.6003 - val_loss: 0.6351 - val_accuracy: 0.6195\n",
            "Epoch 2/25\n",
            "146/146 [==============================] - 53s 364ms/step - loss: 0.6217 - accuracy: 0.6457 - val_loss: 0.6429 - val_accuracy: 0.6262\n",
            "Epoch 3/25\n",
            "146/146 [==============================] - 53s 363ms/step - loss: 0.5916 - accuracy: 0.6746 - val_loss: 0.6549 - val_accuracy: 0.6322\n",
            "Epoch 4/25\n",
            "146/146 [==============================] - 50s 340ms/step - loss: 0.5692 - accuracy: 0.6993 - val_loss: 0.6551 - val_accuracy: 0.6215\n",
            "Epoch 5/25\n",
            "146/146 [==============================] - 55s 375ms/step - loss: 0.5592 - accuracy: 0.7036 - val_loss: 0.6130 - val_accuracy: 0.6669\n",
            "Epoch 6/25\n",
            "146/146 [==============================] - 54s 366ms/step - loss: 0.5283 - accuracy: 0.7247 - val_loss: 0.6227 - val_accuracy: 0.6509\n",
            "Epoch 7/25\n",
            "146/146 [==============================] - 54s 370ms/step - loss: 0.5154 - accuracy: 0.7430 - val_loss: 0.5626 - val_accuracy: 0.7163\n",
            "Epoch 8/25\n",
            "146/146 [==============================] - 55s 377ms/step - loss: 0.4875 - accuracy: 0.7652 - val_loss: 0.7487 - val_accuracy: 0.6482\n",
            "Epoch 9/25\n",
            "146/146 [==============================] - 58s 398ms/step - loss: 0.4892 - accuracy: 0.7628 - val_loss: 0.6395 - val_accuracy: 0.6809\n",
            "Epoch 10/25\n",
            "146/146 [==============================] - 55s 380ms/step - loss: 0.4698 - accuracy: 0.7744 - val_loss: 0.5391 - val_accuracy: 0.7330\n",
            "Epoch 11/25\n",
            "146/146 [==============================] - 52s 354ms/step - loss: 0.4542 - accuracy: 0.7856 - val_loss: 0.6487 - val_accuracy: 0.6956\n",
            "Epoch 12/25\n",
            "146/146 [==============================] - 53s 363ms/step - loss: 0.4426 - accuracy: 0.7904 - val_loss: 0.6742 - val_accuracy: 0.6936\n",
            "Epoch 13/25\n",
            "146/146 [==============================] - 54s 372ms/step - loss: 0.4437 - accuracy: 0.7878 - val_loss: 0.5266 - val_accuracy: 0.7523\n",
            "Epoch 14/25\n",
            "146/146 [==============================] - 52s 356ms/step - loss: 0.4240 - accuracy: 0.8048 - val_loss: 0.5399 - val_accuracy: 0.7403\n",
            "Epoch 15/25\n",
            "146/146 [==============================] - 52s 352ms/step - loss: 0.4172 - accuracy: 0.8000 - val_loss: 0.5037 - val_accuracy: 0.7657\n",
            "Epoch 16/25\n",
            "146/146 [==============================] - 49s 333ms/step - loss: 0.3996 - accuracy: 0.8162 - val_loss: 0.5779 - val_accuracy: 0.7437\n",
            "Epoch 17/25\n",
            "146/146 [==============================] - 55s 376ms/step - loss: 0.3891 - accuracy: 0.8216 - val_loss: 0.5839 - val_accuracy: 0.7430\n",
            "Epoch 18/25\n",
            "146/146 [==============================] - 52s 356ms/step - loss: 0.3769 - accuracy: 0.8295 - val_loss: 0.4935 - val_accuracy: 0.7730\n",
            "Epoch 19/25\n",
            "146/146 [==============================] - 53s 361ms/step - loss: 0.3727 - accuracy: 0.8310 - val_loss: 0.5166 - val_accuracy: 0.7717\n",
            "Epoch 20/25\n",
            "146/146 [==============================] - 56s 384ms/step - loss: 0.3642 - accuracy: 0.8358 - val_loss: 0.5235 - val_accuracy: 0.7804\n",
            "Epoch 21/25\n",
            "146/146 [==============================] - 56s 382ms/step - loss: 0.3475 - accuracy: 0.8442 - val_loss: 0.5622 - val_accuracy: 0.7583\n",
            "Epoch 22/25\n",
            "146/146 [==============================] - 56s 383ms/step - loss: 0.3316 - accuracy: 0.8485 - val_loss: 0.5603 - val_accuracy: 0.7630\n",
            "Epoch 23/25\n",
            "146/146 [==============================] - 56s 384ms/step - loss: 0.3217 - accuracy: 0.8590 - val_loss: 0.6099 - val_accuracy: 0.7557\n",
            "Epoch 24/25\n",
            "146/146 [==============================] - 53s 362ms/step - loss: 0.3135 - accuracy: 0.8642 - val_loss: 0.5426 - val_accuracy: 0.7777\n",
            "Epoch 25/25\n",
            "146/146 [==============================] - 52s 355ms/step - loss: 0.3067 - accuracy: 0.8657 - val_loss: 0.7350 - val_accuracy: 0.7203\n"
          ]
        },
        {
          "output_type": "execute_result",
          "data": {
            "text/plain": [
              "<keras.src.callbacks.History at 0x7ff8ea5f7d30>"
            ]
          },
          "metadata": {},
          "execution_count": 17
        }
      ]
    },
    {
      "cell_type": "markdown",
      "metadata": {
        "id": "U3PZasO0006Z"
      },
      "source": [
        "## Part 4 - Making a single prediction"
      ]
    },
    {
      "cell_type": "code",
      "source": [
        "import numpy as np\n",
        "from keras.preprocessing import image\n",
        "test_image=image.load_img('/content/drive/MyDrive/Datasetcatdog/cat_or_dog_1.jpg', target_size=(64,64))\n",
        "# load_img converts image to pil format, but we need images as 2D arrays.\n",
        "test_image=image.img_to_array(test_image)\n",
        "test_image=np.expand_dims(test_image, axis=0)\n",
        "result=cnn.predict(test_image)\n",
        "training_set.class_indices\n",
        "if result[0][0] == 1:\n",
        "  prediction = 'dog'\n",
        "else:\n",
        "  prediction = 'cat'"
      ],
      "metadata": {
        "colab": {
          "base_uri": "https://localhost:8080/"
        },
        "id": "IYO3aUGh1pDK",
        "outputId": "06e07953-1ad8-4a76-db60-7706716e8567"
      },
      "execution_count": 19,
      "outputs": [
        {
          "output_type": "stream",
          "name": "stdout",
          "text": [
            "1/1 [==============================] - 0s 136ms/step\n"
          ]
        }
      ]
    },
    {
      "cell_type": "code",
      "source": [
        "print(prediction)"
      ],
      "metadata": {
        "colab": {
          "base_uri": "https://localhost:8080/"
        },
        "id": "ZW0coxMKLhBV",
        "outputId": "a3a8f323-c279-4a61-ef97-c0e27defc4e5"
      },
      "execution_count": 20,
      "outputs": [
        {
          "output_type": "stream",
          "name": "stdout",
          "text": [
            "dog\n"
          ]
        }
      ]
    }
  ]
}