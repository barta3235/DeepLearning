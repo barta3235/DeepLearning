{
  "nbformat": 4,
  "nbformat_minor": 0,
  "metadata": {
    "colab": {
      "provenance": [],
      "mount_file_id": "1L-7zMElShpVlNy4AGnaPjyP68AASsDqN",
      "authorship_tag": "ABX9TyMAEawJBR8PJJRMoTFzeQc7",
      "include_colab_link": true
    },
    "kernelspec": {
      "name": "python3",
      "display_name": "Python 3"
    },
    "language_info": {
      "name": "python"
    }
  },
  "cells": [
    {
      "cell_type": "markdown",
      "metadata": {
        "id": "view-in-github",
        "colab_type": "text"
      },
      "source": [
        "<a href=\"https://colab.research.google.com/github/barta3235/DeepLearning/blob/main/RNN_StockPrice/GoogleStock_RNN_Build.ipynb\" target=\"_parent\"><img src=\"https://colab.research.google.com/assets/colab-badge.svg\" alt=\"Open In Colab\"/></a>"
      ]
    },
    {
      "cell_type": "code",
      "execution_count": 34,
      "metadata": {
        "id": "MJbnlamE47Nk"
      },
      "outputs": [],
      "source": [
        "import numpy as np\n",
        "import matplotlib.pyplot as plt\n",
        "import pandas as pd"
      ]
    },
    {
      "cell_type": "code",
      "source": [
        "dataset_train=pd.read_csv('/content/drive/MyDrive/Google_Stock_Price_Train.csv')\n",
        "training_set = dataset_train.iloc[:,1:2].values"
      ],
      "metadata": {
        "id": "_S-AvzViOFbg"
      },
      "execution_count": 35,
      "outputs": []
    },
    {
      "cell_type": "markdown",
      "source": [
        "Applying normalization (feature Scaling)"
      ],
      "metadata": {
        "id": "5j09_S0SSbeA"
      }
    },
    {
      "cell_type": "code",
      "source": [
        "from sklearn.preprocessing import MinMaxScaler\n",
        "sc=MinMaxScaler(feature_range=(0,1))\n",
        "training_set_scaled=sc.fit_transform(training_set)"
      ],
      "metadata": {
        "id": "tS3H3MIXSfSK"
      },
      "execution_count": 36,
      "outputs": []
    },
    {
      "cell_type": "markdown",
      "source": [
        "**Creating a datastructure with 60 timesteps and 1 output**"
      ],
      "metadata": {
        "id": "CgSbcjwKV8KU"
      }
    },
    {
      "cell_type": "code",
      "source": [
        "#iteration 1\n",
        "#x_train.append(training_set_scaled[0:60, 0]): Appends the data\n",
        "#from indices 0 to 59 (60 data points) from the first column\n",
        "#of training_set_scaled to x_train.\n",
        "\n",
        "#y_train.append(training_set_scaled[60, 0]): Appends the value\n",
        "#at index 60 from the first column of training_set_scaled to y_train\n",
        "\n",
        "#iteration 2\n",
        "#x_train.append(training_set_scaled[1:61, 0]): Appends the data\n",
        "#from indices 1 to 60 (60 data points) from the first column\n",
        "#of training_set_scaled to x_train.\n",
        "\n",
        "#y_train.append(training_set_scaled[61, 0]): Appends the value\n",
        "#at index 61 from the first column of training_set_scaled to y_train\n",
        "\n",
        "\n",
        "x_train=[]\n",
        "y_train=[]\n",
        "for i in range(60,1258):\n",
        "  x_train.append(training_set_scaled[i-60:i, 0])   # 0 specifies the column # 0 to 59\n",
        "  y_train.append(training_set_scaled[i, 0])        # 60th\n",
        "\n",
        "x_train, y_train= np.array(x_train) ,np.array(y_train)"
      ],
      "metadata": {
        "id": "O9_x7E2-bTbv"
      },
      "execution_count": 37,
      "outputs": []
    },
    {
      "cell_type": "code",
      "source": [
        "print(x_train[0])\n",
        "print(y_train[0])\n",
        "print(\"\\n\"+\"x_train shape: \")\n",
        "print(x_train.shape)\n",
        "print(x_train.shape[0])   # number of rows or data sample\n",
        "print(x_train.shape[1])   # number of columns or timesteps"
      ],
      "metadata": {
        "colab": {
          "base_uri": "https://localhost:8080/"
        },
        "id": "MqZhRpOmUR7V",
        "outputId": "3ec27a78-f957-4e51-90e4-bea61cf229a1"
      },
      "execution_count": 38,
      "outputs": [
        {
          "output_type": "stream",
          "name": "stdout",
          "text": [
            "[0.08581368 0.09701243 0.09433366 0.09156187 0.07984225 0.0643277\n",
            " 0.0585423  0.06568569 0.06109085 0.06639259 0.0614257  0.07474514\n",
            " 0.02797827 0.02379269 0.02409033 0.0159238  0.01078949 0.00967334\n",
            " 0.01642607 0.02100231 0.02280676 0.02273235 0.02810849 0.03212665\n",
            " 0.0433812  0.04475779 0.04790163 0.0440695  0.04648783 0.04745517\n",
            " 0.04873875 0.03936305 0.04137213 0.04034898 0.04784582 0.04325099\n",
            " 0.04356723 0.04286033 0.04602277 0.05398467 0.05738894 0.05714711\n",
            " 0.05569611 0.04421832 0.04514845 0.04605997 0.04412531 0.03675869\n",
            " 0.04486941 0.05065481 0.05214302 0.05612397 0.05818885 0.06540665\n",
            " 0.06882953 0.07243843 0.07993526 0.07846566 0.08034452 0.08497656]\n",
            "0.08627874097775134\n",
            "\n",
            "x_train shape: \n",
            "(1198, 60)\n",
            "1198\n",
            "60\n"
          ]
        }
      ]
    },
    {
      "cell_type": "markdown",
      "source": [
        "Reshaping (adding more dimensionality to the existing data structure)"
      ],
      "metadata": {
        "id": "8_P5T-33ktcZ"
      }
    },
    {
      "cell_type": "code",
      "source": [
        "# to add dimension in an numpy array we use the reshape function\n",
        "\n",
        "#The additional dimension is usually required by RNNs\n",
        "#and LSTMs because they expect input data in a 3D format,\n",
        "#where the dimensions correspond to (batch_size, time_steps, features).\n",
        "\n",
        "x_train=np.reshape(x_train,(x_train.shape[0],x_train.shape[1],1))\n",
        "print(x_train.shape)"
      ],
      "metadata": {
        "id": "VzF-E-xwku2i",
        "colab": {
          "base_uri": "https://localhost:8080/"
        },
        "outputId": "e748e7c3-13ad-4a15-dfec-995f145e8f9c"
      },
      "execution_count": 39,
      "outputs": [
        {
          "output_type": "stream",
          "name": "stdout",
          "text": [
            "(1198, 60, 1)\n"
          ]
        }
      ]
    },
    {
      "cell_type": "markdown",
      "source": [
        "Building RNN"
      ],
      "metadata": {
        "id": "3I4asH6hysSZ"
      }
    },
    {
      "cell_type": "code",
      "source": [
        "from keras.models import Sequential\n",
        "from keras.layers import Dense\n",
        "from keras.layers import LSTM\n",
        "from keras.layers import Dropout"
      ],
      "metadata": {
        "id": "XnL3BHGOyZqK"
      },
      "execution_count": 40,
      "outputs": []
    },
    {
      "cell_type": "markdown",
      "source": [
        "Initializing the RNN"
      ],
      "metadata": {
        "id": "tjz7ZQgZ2PTa"
      }
    },
    {
      "cell_type": "code",
      "source": [
        "regressor= Sequential()  # predicting a continuous value"
      ],
      "metadata": {
        "id": "NMAHbwgg2SDO"
      },
      "execution_count": 41,
      "outputs": []
    },
    {
      "cell_type": "code",
      "source": [
        "#LSTM(number of units, return sequences, input shape )\n",
        "regressor.add(LSTM())"
      ],
      "metadata": {
        "id": "zXP9qoR44CLi"
      },
      "execution_count": null,
      "outputs": []
    }
  ]
}