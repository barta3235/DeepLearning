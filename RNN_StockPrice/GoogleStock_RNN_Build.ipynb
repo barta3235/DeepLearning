{
  "nbformat": 4,
  "nbformat_minor": 0,
  "metadata": {
    "colab": {
      "provenance": [],
      "mount_file_id": "1L-7zMElShpVlNy4AGnaPjyP68AASsDqN",
      "authorship_tag": "ABX9TyM5eHhOmg7Om59+hBwR6Gih",
      "include_colab_link": true
    },
    "kernelspec": {
      "name": "python3",
      "display_name": "Python 3"
    },
    "language_info": {
      "name": "python"
    }
  },
  "cells": [
    {
      "cell_type": "markdown",
      "metadata": {
        "id": "view-in-github",
        "colab_type": "text"
      },
      "source": [
        "<a href=\"https://colab.research.google.com/github/barta3235/DeepLearning/blob/main/RNN_StockPrice/GoogleStock_RNN_Build.ipynb\" target=\"_parent\"><img src=\"https://colab.research.google.com/assets/colab-badge.svg\" alt=\"Open In Colab\"/></a>"
      ]
    },
    {
      "cell_type": "code",
      "execution_count": 1,
      "metadata": {
        "id": "MJbnlamE47Nk"
      },
      "outputs": [],
      "source": [
        "import numpy as np\n",
        "import matplotlib.pyplot as plt\n",
        "import pandas as pd"
      ]
    },
    {
      "cell_type": "code",
      "source": [
        "dataset_train=pd.read_csv('/content/drive/MyDrive/Google_Stock_Price_Train.csv')\n",
        "training_set = dataset_train.iloc[:,1:2].values"
      ],
      "metadata": {
        "id": "_S-AvzViOFbg"
      },
      "execution_count": 2,
      "outputs": []
    },
    {
      "cell_type": "markdown",
      "source": [
        "Applying normalization (feature Scaling)"
      ],
      "metadata": {
        "id": "5j09_S0SSbeA"
      }
    },
    {
      "cell_type": "code",
      "source": [
        "from sklearn.preprocessing import MinMaxScaler\n",
        "sc=MinMaxScaler(feature_range=(0,1))\n",
        "training_set_scaled=sc.fit_transform(training_set)"
      ],
      "metadata": {
        "id": "tS3H3MIXSfSK"
      },
      "execution_count": 3,
      "outputs": []
    },
    {
      "cell_type": "markdown",
      "source": [
        "**Creating a datastructure with 60 timesteps and 1 output**"
      ],
      "metadata": {
        "id": "CgSbcjwKV8KU"
      }
    },
    {
      "cell_type": "code",
      "source": [
        "#iteration 1\n",
        "#x_train.append(training_set_scaled[0:60, 0]): Appends the data\n",
        "#from indices 0 to 59 (60 data points) from the first column\n",
        "#of training_set_scaled to x_train.\n",
        "\n",
        "#y_train.append(training_set_scaled[60, 0]): Appends the value\n",
        "#at index 60 from the first column of training_set_scaled to y_train\n",
        "\n",
        "#iteration 2\n",
        "#x_train.append(training_set_scaled[1:61, 0]): Appends the data\n",
        "#from indices 1 to 60 (60 data points) from the first column\n",
        "#of training_set_scaled to x_train.\n",
        "\n",
        "#y_train.append(training_set_scaled[61, 0]): Appends the value\n",
        "#at index 61 from the first column of training_set_scaled to y_train\n",
        "\n",
        "\n",
        "x_train=[]\n",
        "y_train=[]\n",
        "for i in range(60,1258):\n",
        "  x_train.append(training_set_scaled[i-60:i, 0])   # 0 specifies the column # 0 to 59\n",
        "  y_train.append(training_set_scaled[i, 0])        # 60th\n",
        "\n",
        "x_train, y_train= np.array(x_train) ,np.array(y_train)"
      ],
      "metadata": {
        "id": "O9_x7E2-bTbv"
      },
      "execution_count": 4,
      "outputs": []
    },
    {
      "cell_type": "code",
      "source": [
        "print(x_train[0])\n",
        "print(y_train[0])\n",
        "print(\"\\n\"+\"x_train shape: \")\n",
        "print(x_train.shape)\n",
        "print(x_train.shape[0])   # number of rows or data sample\n",
        "print(x_train.shape[1])   # number of columns or timesteps"
      ],
      "metadata": {
        "colab": {
          "base_uri": "https://localhost:8080/"
        },
        "id": "MqZhRpOmUR7V",
        "outputId": "8f1886d6-250b-41a4-b0a0-98c87f7ce015"
      },
      "execution_count": 5,
      "outputs": [
        {
          "output_type": "stream",
          "name": "stdout",
          "text": [
            "[0.08581368 0.09701243 0.09433366 0.09156187 0.07984225 0.0643277\n",
            " 0.0585423  0.06568569 0.06109085 0.06639259 0.0614257  0.07474514\n",
            " 0.02797827 0.02379269 0.02409033 0.0159238  0.01078949 0.00967334\n",
            " 0.01642607 0.02100231 0.02280676 0.02273235 0.02810849 0.03212665\n",
            " 0.0433812  0.04475779 0.04790163 0.0440695  0.04648783 0.04745517\n",
            " 0.04873875 0.03936305 0.04137213 0.04034898 0.04784582 0.04325099\n",
            " 0.04356723 0.04286033 0.04602277 0.05398467 0.05738894 0.05714711\n",
            " 0.05569611 0.04421832 0.04514845 0.04605997 0.04412531 0.03675869\n",
            " 0.04486941 0.05065481 0.05214302 0.05612397 0.05818885 0.06540665\n",
            " 0.06882953 0.07243843 0.07993526 0.07846566 0.08034452 0.08497656]\n",
            "0.08627874097775134\n",
            "\n",
            "x_train shape: \n",
            "(1198, 60)\n",
            "1198\n",
            "60\n"
          ]
        }
      ]
    },
    {
      "cell_type": "markdown",
      "source": [
        "Reshaping (adding more dimensionality to the existing data structure)"
      ],
      "metadata": {
        "id": "8_P5T-33ktcZ"
      }
    },
    {
      "cell_type": "code",
      "source": [
        "# to add dimension in an numpy array we use the reshape function\n",
        "\n",
        "#The additional dimension is usually required by RNNs\n",
        "#and LSTMs because they expect input data in a 3D format,\n",
        "#where the dimensions correspond to (batch_size, time_steps, features).\n",
        "\n",
        "x_train=np.reshape(x_train,(x_train.shape[0],x_train.shape[1],1))\n",
        "print(x_train.shape)"
      ],
      "metadata": {
        "id": "VzF-E-xwku2i",
        "colab": {
          "base_uri": "https://localhost:8080/"
        },
        "outputId": "b3b17f14-dc1f-4aa2-d59c-94de53d24d35"
      },
      "execution_count": 6,
      "outputs": [
        {
          "output_type": "stream",
          "name": "stdout",
          "text": [
            "(1198, 60, 1)\n"
          ]
        }
      ]
    },
    {
      "cell_type": "markdown",
      "source": [
        "Building RNN"
      ],
      "metadata": {
        "id": "3I4asH6hysSZ"
      }
    },
    {
      "cell_type": "code",
      "source": [
        "from keras.models import Sequential\n",
        "from keras.layers import Dense\n",
        "from keras.layers import LSTM\n",
        "from keras.layers import Dropout"
      ],
      "metadata": {
        "id": "XnL3BHGOyZqK"
      },
      "execution_count": 7,
      "outputs": []
    },
    {
      "cell_type": "markdown",
      "source": [
        "Initializing the RNN"
      ],
      "metadata": {
        "id": "tjz7ZQgZ2PTa"
      }
    },
    {
      "cell_type": "code",
      "source": [
        "regressor= Sequential()  # predicting a continuous value"
      ],
      "metadata": {
        "id": "NMAHbwgg2SDO"
      },
      "execution_count": 8,
      "outputs": []
    },
    {
      "cell_type": "markdown",
      "source": [
        "LSTM layer and some dropout layer\n"
      ],
      "metadata": {
        "id": "HHG_VlXp7kjx"
      }
    },
    {
      "cell_type": "code",
      "source": [
        "#LSTM(number of units, return sequences, (timesteps, features))\n",
        "\n",
        "#This parameter determines whether the LSTM layer should return\n",
        "#the full sequence of outputs for each input sequence or just the\n",
        "#last output. If return_sequences is set to True, the layer will\n",
        "#return the full sequence; if set to False (default), it will only\n",
        "#return the output corresponding to the last time step.\n",
        "#Returning sequences is useful when stacking multiple recurrent layers.\n",
        "\n",
        "\n",
        "regressor.add(LSTM(units=50,return_sequences=True,input_shape=(x_train.shape[1],1)))\n",
        "regressor.add(Dropout(0.2))"
      ],
      "metadata": {
        "id": "zXP9qoR44CLi"
      },
      "execution_count": 9,
      "outputs": []
    },
    {
      "cell_type": "code",
      "source": [
        "regressor.add(LSTM(units=50,return_sequences=True))\n",
        "regressor.add(Dropout(0.2))\n",
        "\n",
        "regressor.add(LSTM(units=50,return_sequences=True))\n",
        "regressor.add(Dropout(0.2))\n",
        "\n",
        "regressor.add(LSTM(units=50))\n",
        "regressor.add(Dropout(0.2))"
      ],
      "metadata": {
        "id": "jPz6e_qS8SSw"
      },
      "execution_count": 10,
      "outputs": []
    },
    {
      "cell_type": "code",
      "source": [
        "# adding the output layer\n",
        "\n",
        "regressor.add(Dense(units=1))   # stock price at t+1"
      ],
      "metadata": {
        "id": "-9RXiPzl-St5"
      },
      "execution_count": 11,
      "outputs": []
    },
    {
      "cell_type": "markdown",
      "source": [
        "Adding optimizer and training"
      ],
      "metadata": {
        "id": "_9Wq4UH2_mCJ"
      }
    },
    {
      "cell_type": "code",
      "source": [
        "regressor.compile(optimizer='adam',loss='mean_squared_error')"
      ],
      "metadata": {
        "id": "yD4Bb4kp4kCT"
      },
      "execution_count": 12,
      "outputs": []
    },
    {
      "cell_type": "markdown",
      "source": [
        "No. of batches =\n",
        "Total Number of Samples/Batch Size\n",
        "1198/32 =38"
      ],
      "metadata": {
        "id": "3HtJ0Xj8J9Qm"
      }
    },
    {
      "cell_type": "code",
      "source": [
        "regressor.fit(x_train,y_train, epochs=100, batch_size=32)"
      ],
      "metadata": {
        "colab": {
          "base_uri": "https://localhost:8080/"
        },
        "id": "QUcW1GU4BENE",
        "outputId": "1c231c36-577b-4c8e-f4dd-f0d709cdd93a"
      },
      "execution_count": 13,
      "outputs": [
        {
          "output_type": "stream",
          "name": "stdout",
          "text": [
            "Epoch 1/100\n",
            "38/38 [==============================] - 23s 108ms/step - loss: 0.0406\n",
            "Epoch 2/100\n",
            "38/38 [==============================] - 5s 129ms/step - loss: 0.0064\n",
            "Epoch 3/100\n",
            "38/38 [==============================] - 6s 154ms/step - loss: 0.0059\n",
            "Epoch 4/100\n",
            "38/38 [==============================] - 4s 109ms/step - loss: 0.0052\n",
            "Epoch 5/100\n",
            "38/38 [==============================] - 4s 109ms/step - loss: 0.0046\n",
            "Epoch 6/100\n",
            "38/38 [==============================] - 6s 172ms/step - loss: 0.0055\n",
            "Epoch 7/100\n",
            "38/38 [==============================] - 4s 107ms/step - loss: 0.0047\n",
            "Epoch 8/100\n",
            "38/38 [==============================] - 4s 107ms/step - loss: 0.0054\n",
            "Epoch 9/100\n",
            "38/38 [==============================] - 5s 145ms/step - loss: 0.0044\n",
            "Epoch 10/100\n",
            "38/38 [==============================] - 5s 132ms/step - loss: 0.0043\n",
            "Epoch 11/100\n",
            "38/38 [==============================] - 4s 107ms/step - loss: 0.0039\n",
            "Epoch 12/100\n",
            "38/38 [==============================] - 5s 121ms/step - loss: 0.0044\n",
            "Epoch 13/100\n",
            "38/38 [==============================] - 6s 159ms/step - loss: 0.0039\n",
            "Epoch 14/100\n",
            "38/38 [==============================] - 4s 107ms/step - loss: 0.0041\n",
            "Epoch 15/100\n",
            "38/38 [==============================] - 4s 108ms/step - loss: 0.0039\n",
            "Epoch 16/100\n",
            "38/38 [==============================] - 8s 217ms/step - loss: 0.0038\n",
            "Epoch 17/100\n",
            "38/38 [==============================] - 4s 107ms/step - loss: 0.0037\n",
            "Epoch 18/100\n",
            "38/38 [==============================] - 4s 106ms/step - loss: 0.0035\n",
            "Epoch 19/100\n",
            "38/38 [==============================] - 6s 165ms/step - loss: 0.0034\n",
            "Epoch 20/100\n",
            "38/38 [==============================] - 4s 111ms/step - loss: 0.0042\n",
            "Epoch 21/100\n",
            "38/38 [==============================] - 4s 106ms/step - loss: 0.0036\n",
            "Epoch 22/100\n",
            "38/38 [==============================] - 5s 142ms/step - loss: 0.0033\n",
            "Epoch 23/100\n",
            "38/38 [==============================] - 5s 136ms/step - loss: 0.0040\n",
            "Epoch 24/100\n",
            "38/38 [==============================] - 4s 107ms/step - loss: 0.0033\n",
            "Epoch 25/100\n",
            "38/38 [==============================] - 4s 115ms/step - loss: 0.0030\n",
            "Epoch 26/100\n",
            "38/38 [==============================] - 6s 163ms/step - loss: 0.0031\n",
            "Epoch 27/100\n",
            "38/38 [==============================] - 4s 109ms/step - loss: 0.0029\n",
            "Epoch 28/100\n",
            "38/38 [==============================] - 4s 107ms/step - loss: 0.0031\n",
            "Epoch 29/100\n",
            "38/38 [==============================] - 6s 164ms/step - loss: 0.0029\n",
            "Epoch 30/100\n",
            "38/38 [==============================] - 5s 116ms/step - loss: 0.0026\n",
            "Epoch 31/100\n",
            "38/38 [==============================] - 4s 109ms/step - loss: 0.0029\n",
            "Epoch 32/100\n",
            "38/38 [==============================] - 5s 140ms/step - loss: 0.0030\n",
            "Epoch 33/100\n",
            "38/38 [==============================] - 5s 137ms/step - loss: 0.0027\n",
            "Epoch 34/100\n",
            "38/38 [==============================] - 4s 107ms/step - loss: 0.0028\n",
            "Epoch 35/100\n",
            "38/38 [==============================] - 4s 114ms/step - loss: 0.0028\n",
            "Epoch 36/100\n",
            "38/38 [==============================] - 6s 164ms/step - loss: 0.0029\n",
            "Epoch 37/100\n",
            "38/38 [==============================] - 4s 107ms/step - loss: 0.0026\n",
            "Epoch 38/100\n",
            "38/38 [==============================] - 4s 106ms/step - loss: 0.0026\n",
            "Epoch 39/100\n",
            "38/38 [==============================] - 6s 159ms/step - loss: 0.0028\n",
            "Epoch 40/100\n",
            "38/38 [==============================] - 5s 119ms/step - loss: 0.0025\n",
            "Epoch 41/100\n",
            "38/38 [==============================] - 4s 109ms/step - loss: 0.0027\n",
            "Epoch 42/100\n",
            "38/38 [==============================] - 5s 132ms/step - loss: 0.0028\n",
            "Epoch 43/100\n",
            "38/38 [==============================] - 5s 144ms/step - loss: 0.0027\n",
            "Epoch 44/100\n",
            "38/38 [==============================] - 4s 107ms/step - loss: 0.0024\n",
            "Epoch 45/100\n",
            "38/38 [==============================] - 4s 107ms/step - loss: 0.0024\n",
            "Epoch 46/100\n",
            "38/38 [==============================] - 7s 172ms/step - loss: 0.0023\n",
            "Epoch 47/100\n",
            "38/38 [==============================] - 4s 108ms/step - loss: 0.0026\n",
            "Epoch 48/100\n",
            "38/38 [==============================] - 4s 108ms/step - loss: 0.0020\n",
            "Epoch 49/100\n",
            "38/38 [==============================] - 6s 153ms/step - loss: 0.0023\n",
            "Epoch 50/100\n",
            "38/38 [==============================] - 5s 126ms/step - loss: 0.0028\n",
            "Epoch 51/100\n",
            "38/38 [==============================] - 4s 106ms/step - loss: 0.0022\n",
            "Epoch 52/100\n",
            "38/38 [==============================] - 5s 126ms/step - loss: 0.0020\n",
            "Epoch 53/100\n",
            "38/38 [==============================] - 6s 150ms/step - loss: 0.0023\n",
            "Epoch 54/100\n",
            "38/38 [==============================] - 4s 107ms/step - loss: 0.0023\n",
            "Epoch 55/100\n",
            "38/38 [==============================] - 4s 107ms/step - loss: 0.0022\n",
            "Epoch 56/100\n",
            "38/38 [==============================] - 6s 168ms/step - loss: 0.0020\n",
            "Epoch 57/100\n",
            "38/38 [==============================] - 4s 109ms/step - loss: 0.0022\n",
            "Epoch 58/100\n",
            "38/38 [==============================] - 4s 107ms/step - loss: 0.0021\n",
            "Epoch 59/100\n",
            "38/38 [==============================] - 5s 143ms/step - loss: 0.0019\n",
            "Epoch 60/100\n",
            "38/38 [==============================] - 5s 134ms/step - loss: 0.0020\n",
            "Epoch 61/100\n",
            "38/38 [==============================] - 4s 106ms/step - loss: 0.0023\n",
            "Epoch 62/100\n",
            "38/38 [==============================] - 4s 116ms/step - loss: 0.0022\n",
            "Epoch 63/100\n",
            "38/38 [==============================] - 6s 160ms/step - loss: 0.0018\n",
            "Epoch 64/100\n",
            "38/38 [==============================] - 4s 107ms/step - loss: 0.0020\n",
            "Epoch 65/100\n",
            "38/38 [==============================] - 4s 106ms/step - loss: 0.0018\n",
            "Epoch 66/100\n",
            "38/38 [==============================] - 6s 160ms/step - loss: 0.0020\n",
            "Epoch 67/100\n",
            "38/38 [==============================] - 4s 116ms/step - loss: 0.0020\n",
            "Epoch 68/100\n",
            "38/38 [==============================] - 4s 108ms/step - loss: 0.0018\n",
            "Epoch 69/100\n",
            "38/38 [==============================] - 6s 147ms/step - loss: 0.0017\n",
            "Epoch 70/100\n",
            "38/38 [==============================] - 8s 202ms/step - loss: 0.0017\n",
            "Epoch 71/100\n",
            "38/38 [==============================] - 4s 105ms/step - loss: 0.0016\n",
            "Epoch 72/100\n",
            "38/38 [==============================] - 4s 107ms/step - loss: 0.0016\n",
            "Epoch 73/100\n",
            "38/38 [==============================] - 5s 142ms/step - loss: 0.0019\n",
            "Epoch 74/100\n",
            "38/38 [==============================] - 5s 134ms/step - loss: 0.0017\n",
            "Epoch 75/100\n",
            "38/38 [==============================] - 4s 106ms/step - loss: 0.0018\n",
            "Epoch 76/100\n",
            "38/38 [==============================] - 4s 116ms/step - loss: 0.0016\n",
            "Epoch 77/100\n",
            "38/38 [==============================] - 6s 162ms/step - loss: 0.0016\n",
            "Epoch 78/100\n",
            "38/38 [==============================] - 4s 108ms/step - loss: 0.0016\n",
            "Epoch 79/100\n",
            "38/38 [==============================] - 4s 106ms/step - loss: 0.0016\n",
            "Epoch 80/100\n",
            "38/38 [==============================] - 6s 159ms/step - loss: 0.0016\n",
            "Epoch 81/100\n",
            "38/38 [==============================] - 5s 117ms/step - loss: 0.0018\n",
            "Epoch 82/100\n",
            "38/38 [==============================] - 4s 106ms/step - loss: 0.0016\n",
            "Epoch 83/100\n",
            "38/38 [==============================] - 5s 132ms/step - loss: 0.0017\n",
            "Epoch 84/100\n",
            "38/38 [==============================] - 5s 144ms/step - loss: 0.0017\n",
            "Epoch 85/100\n",
            "38/38 [==============================] - 4s 108ms/step - loss: 0.0017\n",
            "Epoch 86/100\n",
            "38/38 [==============================] - 4s 108ms/step - loss: 0.0015\n",
            "Epoch 87/100\n",
            "38/38 [==============================] - 6s 170ms/step - loss: 0.0016\n",
            "Epoch 88/100\n",
            "38/38 [==============================] - 4s 107ms/step - loss: 0.0016\n",
            "Epoch 89/100\n",
            "38/38 [==============================] - 4s 107ms/step - loss: 0.0019\n",
            "Epoch 90/100\n",
            "38/38 [==============================] - 6s 152ms/step - loss: 0.0015\n",
            "Epoch 91/100\n",
            "38/38 [==============================] - 5s 124ms/step - loss: 0.0014\n",
            "Epoch 92/100\n",
            "38/38 [==============================] - 4s 106ms/step - loss: 0.0016\n",
            "Epoch 93/100\n",
            "38/38 [==============================] - 5s 126ms/step - loss: 0.0016\n",
            "Epoch 94/100\n",
            "38/38 [==============================] - 6s 149ms/step - loss: 0.0016\n",
            "Epoch 95/100\n",
            "38/38 [==============================] - 4s 107ms/step - loss: 0.0015\n",
            "Epoch 96/100\n",
            "38/38 [==============================] - 4s 106ms/step - loss: 0.0015\n",
            "Epoch 97/100\n",
            "38/38 [==============================] - 6s 171ms/step - loss: 0.0014\n",
            "Epoch 98/100\n",
            "38/38 [==============================] - 4s 106ms/step - loss: 0.0014\n",
            "Epoch 99/100\n",
            "38/38 [==============================] - 4s 106ms/step - loss: 0.0014\n",
            "Epoch 100/100\n",
            "38/38 [==============================] - 5s 141ms/step - loss: 0.0012\n"
          ]
        },
        {
          "output_type": "execute_result",
          "data": {
            "text/plain": [
              "<keras.src.callbacks.History at 0x7a4518295e10>"
            ]
          },
          "metadata": {},
          "execution_count": 13
        }
      ]
    },
    {
      "cell_type": "markdown",
      "source": [
        "Getting stock price of 2017 (Real)"
      ],
      "metadata": {
        "id": "aSZFRQWVNH0V"
      }
    },
    {
      "cell_type": "code",
      "source": [
        "dataset_test=pd.read_csv('/content/drive/MyDrive/Google_Stock_Price_Test.csv')\n",
        "test_set = dataset_test.iloc[:,1:2].values"
      ],
      "metadata": {
        "id": "HcjDF_vSu3-N"
      },
      "execution_count": 14,
      "outputs": []
    },
    {
      "cell_type": "markdown",
      "source": [
        "Getting stock price of 2017 (Predicted)"
      ],
      "metadata": {
        "id": "-2fmnbrGNMdq"
      }
    },
    {
      "cell_type": "code",
      "source": [
        "# here for predicting stock price of jan 2017 we need previous 60 stocks prices,\n",
        "# hence for that we are required to use the training dataset as the test dataset has only 2017 data.\n",
        "# Now for the end of jan 2017 or other months of 2017 we need need the test set.\n",
        "# So we need to concat both the train and test set\n",
        "\n",
        "# Problem with concat -- we have to scale the concatenation of test and train set\n",
        "# problem is we are changing the test values due to concat\n",
        "# we have to keep the test values as they are.\n",
        "\n",
        "dataset_total= pd.concat((dataset_train['Open'],dataset_test['Open']),axis= 0)  # for vertical concat axis=0\n",
        "inputs = dataset_total[len(dataset_total)-len(dataset_test) -60 : ].values\n",
        "inputs=inputs.reshape(-1,1)\n",
        "inputs=sc.transform(inputs)     # sc obejct is already scaled previously\n",
        "\n",
        "\n",
        "x_test=[]\n",
        "# no need of y test as we making prediction\n",
        "for i in range(60,80):\n",
        "  x_test.append(inputs[i-60:i, 0])   # 0 specifies the column # 0 to 59\n",
        "\n",
        "\n",
        "x_test= np.array(x_test)\n",
        "x_test= np.reshape(x_test,(x_test.shape[0],x_test.shape[1],1))\n",
        "\n",
        "y_test_pred=regressor.predict(x_test)\n",
        "# our regressor was trained to predict scaled value of stock prices\n",
        "y_test_pred=sc.inverse_transform(y_test_pred)\n",
        "\n",
        "\n",
        "\n"
      ],
      "metadata": {
        "id": "fv7X3rdyNQ8l",
        "colab": {
          "base_uri": "https://localhost:8080/"
        },
        "outputId": "c71dece4-754c-411d-ecae-a94823744b50"
      },
      "execution_count": 15,
      "outputs": [
        {
          "output_type": "stream",
          "name": "stdout",
          "text": [
            "1/1 [==============================] - 2s 2s/step\n"
          ]
        }
      ]
    },
    {
      "cell_type": "markdown",
      "source": [
        "Visualization"
      ],
      "metadata": {
        "id": "T05qVf5qL_pC"
      }
    },
    {
      "cell_type": "code",
      "source": [
        "plt.title('Google Stock Price Prediction')\n",
        "plt.plot(test_set, color='red', label= \"Real Google Stock Price\")\n",
        "plt.plot(y_test_pred, color='blue', label= \"Predicted Google Stock Price\")\n",
        "plt.xlabel('Time')\n",
        "plt.ylabel('STock Price')\n",
        "plt.legend()\n",
        "plt.show()"
      ],
      "metadata": {
        "colab": {
          "base_uri": "https://localhost:8080/",
          "height": 472
        },
        "id": "phplwxLnL-e6",
        "outputId": "f6e68e9f-b894-4f49-be24-e00beb7ed888"
      },
      "execution_count": 16,
      "outputs": [
        {
          "output_type": "display_data",
          "data": {
            "text/plain": [
              "<Figure size 640x480 with 1 Axes>"
            ],
            "image/png": "[encoded data removed]"
          },
          "metadata": {}
        }
      ]
    },
    {
      "cell_type": "markdown",
      "source": [
        "**Understanding: Our model react good to smooth changes.\n",
        "our model cannot react to fast linear changes(the spikes)**"
      ],
      "metadata": {
        "id": "mZCwlVwmN8KX"
      }
    }
  ]
}